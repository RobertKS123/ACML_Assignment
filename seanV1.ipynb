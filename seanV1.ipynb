{
 "cells": [
  {
   "cell_type": "code",
   "execution_count": 29,
   "id": "dda45d92-3c09-445b-8500-d19a641c051c",
   "metadata": {},
   "outputs": [],
   "source": [
    "import pandas as pd\n",
    "import numpy as np\n",
    "import seaborn as sns\n",
    "import tensorflow as tf\n",
    "from keras.models import Sequential\n",
    "from keras.layers import Dense, Dropout, Activation, BatchNormalization\n",
    "import matplotlib.pyplot as plt\n",
    "from sklearn.preprocessing import StandardScaler, LabelEncoder\n",
    "from sklearn.model_selection import train_test_split, GridSearchCV\n",
    "from sklearn.utils import class_weight\n",
    "from sklearn.tree import DecisionTreeClassifier\n",
    "from sklearn.ensemble import RandomForestClassifier\n",
    "from sklearn.metrics import confusion_matrix, ConfusionMatrixDisplay, accuracy_score, precision_score, recall_score, f1_score\n",
    "import hashlib\n",
    "from imblearn.over_sampling import RandomOverSampler, SMOTE"
   ]
  },
  {
   "attachments": {},
   "cell_type": "markdown",
   "id": "c472dc37-db9e-48d1-bd7a-c496614823e7",
   "metadata": {},
   "source": [
    "### Pre-Processing"
   ]
  },
  {
   "cell_type": "code",
   "execution_count": 60,
   "id": "6f243808",
   "metadata": {},
   "outputs": [],
   "source": [
    "data=pd.read_csv('./Data/onlinefraud.csv')"
   ]
  },
  {
   "cell_type": "code",
   "execution_count": 61,
   "id": "df4b28b3-0f14-48a4-be84-8757374dab49",
   "metadata": {},
   "outputs": [
    {
     "data": {
      "text/html": [
       "<div>\n",
       "<style scoped>\n",
       "    .dataframe tbody tr th:only-of-type {\n",
       "        vertical-align: middle;\n",
       "    }\n",
       "\n",
       "    .dataframe tbody tr th {\n",
       "        vertical-align: top;\n",
       "    }\n",
       "\n",
       "    .dataframe thead th {\n",
       "        text-align: right;\n",
       "    }\n",
       "</style>\n",
       "<table border=\"1\" class=\"dataframe\">\n",
       "  <thead>\n",
       "    <tr style=\"text-align: right;\">\n",
       "      <th></th>\n",
       "      <th>step</th>\n",
       "      <th>type</th>\n",
       "      <th>amount</th>\n",
       "      <th>nameOrig</th>\n",
       "      <th>oldbalanceOrg</th>\n",
       "      <th>newbalanceOrig</th>\n",
       "      <th>nameDest</th>\n",
       "      <th>oldbalanceDest</th>\n",
       "      <th>newbalanceDest</th>\n",
       "      <th>isFraud</th>\n",
       "      <th>isFlaggedFraud</th>\n",
       "    </tr>\n",
       "  </thead>\n",
       "  <tbody>\n",
       "    <tr>\n",
       "      <th>0</th>\n",
       "      <td>1</td>\n",
       "      <td>2</td>\n",
       "      <td>9839.64</td>\n",
       "      <td>C1231006815</td>\n",
       "      <td>170136.0</td>\n",
       "      <td>160296.36</td>\n",
       "      <td>M1979787155</td>\n",
       "      <td>0.0</td>\n",
       "      <td>0.0</td>\n",
       "      <td>0</td>\n",
       "      <td>0</td>\n",
       "    </tr>\n",
       "    <tr>\n",
       "      <th>1</th>\n",
       "      <td>1</td>\n",
       "      <td>2</td>\n",
       "      <td>1864.28</td>\n",
       "      <td>C1666544295</td>\n",
       "      <td>21249.0</td>\n",
       "      <td>19384.72</td>\n",
       "      <td>M2044282225</td>\n",
       "      <td>0.0</td>\n",
       "      <td>0.0</td>\n",
       "      <td>0</td>\n",
       "      <td>0</td>\n",
       "    </tr>\n",
       "    <tr>\n",
       "      <th>2</th>\n",
       "      <td>1</td>\n",
       "      <td>4</td>\n",
       "      <td>181.00</td>\n",
       "      <td>C1305486145</td>\n",
       "      <td>181.0</td>\n",
       "      <td>0.00</td>\n",
       "      <td>C553264065</td>\n",
       "      <td>0.0</td>\n",
       "      <td>0.0</td>\n",
       "      <td>1</td>\n",
       "      <td>0</td>\n",
       "    </tr>\n",
       "    <tr>\n",
       "      <th>3</th>\n",
       "      <td>1</td>\n",
       "      <td>1</td>\n",
       "      <td>181.00</td>\n",
       "      <td>C840083671</td>\n",
       "      <td>181.0</td>\n",
       "      <td>0.00</td>\n",
       "      <td>C38997010</td>\n",
       "      <td>21182.0</td>\n",
       "      <td>0.0</td>\n",
       "      <td>1</td>\n",
       "      <td>0</td>\n",
       "    </tr>\n",
       "    <tr>\n",
       "      <th>4</th>\n",
       "      <td>1</td>\n",
       "      <td>2</td>\n",
       "      <td>11668.14</td>\n",
       "      <td>C2048537720</td>\n",
       "      <td>41554.0</td>\n",
       "      <td>29885.86</td>\n",
       "      <td>M1230701703</td>\n",
       "      <td>0.0</td>\n",
       "      <td>0.0</td>\n",
       "      <td>0</td>\n",
       "      <td>0</td>\n",
       "    </tr>\n",
       "  </tbody>\n",
       "</table>\n",
       "</div>"
      ],
      "text/plain": [
       "   step  type    amount     nameOrig  oldbalanceOrg  newbalanceOrig  \\\n",
       "0     1     2   9839.64  C1231006815       170136.0       160296.36   \n",
       "1     1     2   1864.28  C1666544295        21249.0        19384.72   \n",
       "2     1     4    181.00  C1305486145          181.0            0.00   \n",
       "3     1     1    181.00   C840083671          181.0            0.00   \n",
       "4     1     2  11668.14  C2048537720        41554.0        29885.86   \n",
       "\n",
       "      nameDest  oldbalanceDest  newbalanceDest  isFraud  isFlaggedFraud  \n",
       "0  M1979787155             0.0             0.0        0               0  \n",
       "1  M2044282225             0.0             0.0        0               0  \n",
       "2   C553264065             0.0             0.0        1               0  \n",
       "3    C38997010         21182.0             0.0        1               0  \n",
       "4  M1230701703             0.0             0.0        0               0  "
      ]
     },
     "execution_count": 61,
     "metadata": {},
     "output_type": "execute_result"
    }
   ],
   "source": [
    "# convert type to number categorical\n",
    "data[\"type\"] = data[\"type\"].map({\"CASH_OUT\": 1, \"PAYMENT\": 2, \"CASH_IN\": 3, \"TRANSFER\": 4, \"DEBIT\": 5})\n",
    "data.head()"
   ]
  },
  {
   "cell_type": "code",
   "execution_count": 62,
   "id": "0fbd121e-e586-4ba7-98ce-4dac58e05e09",
   "metadata": {},
   "outputs": [],
   "source": [
    "data = data.drop([\"nameOrig\", \"nameDest\",\"step\"], axis=1)"
   ]
  },
  {
   "cell_type": "code",
   "execution_count": 63,
   "id": "b327417f-bce4-49fd-b3da-bd56f2bc17e6",
   "metadata": {},
   "outputs": [],
   "source": [
    "# Prepare the Data\n",
    "X = data.drop(['isFraud'], axis=1)\n",
    "y = data['isFraud']\n",
    "X_train, X_test, y_train, y_test = train_test_split(X, y, test_size=0.2, random_state=42)\n",
    "scaler = StandardScaler()\n",
    "X_train_scaled = scaler.fit_transform(X_train)\n",
    "X_test_scaled = scaler.transform(X_test)\n"
   ]
  },
  {
   "attachments": {},
   "cell_type": "markdown",
   "id": "97df0bae-7252-49a7-ae65-f16187ebaec7",
   "metadata": {},
   "source": [
    "### Models"
   ]
  },
  {
   "attachments": {},
   "cell_type": "markdown",
   "id": "087d854e-6354-4a69-a229-07afc42c81e3",
   "metadata": {},
   "source": [
    "#### DNN"
   ]
  },
  {
   "cell_type": "code",
   "execution_count": 27,
   "id": "d3514280-ffed-4c91-bb5d-a5666a92d524",
   "metadata": {},
   "outputs": [
    {
     "name": "stdout",
     "output_type": "stream",
     "text": [
      "Epoch 1/6\n",
      "159066/159066 [==============================] - 122s 764us/step - loss: 0.0037\n",
      "Epoch 2/6\n",
      "159066/159066 [==============================] - 126s 795us/step - loss: 0.0029\n",
      "Epoch 3/6\n",
      "159066/159066 [==============================] - 119s 747us/step - loss: 0.0027\n",
      "Epoch 4/6\n",
      "159066/159066 [==============================] - 117s 736us/step - loss: 0.0029\n",
      "Epoch 5/6\n",
      "159066/159066 [==============================] - 122s 765us/step - loss: 0.0027\n",
      "Epoch 6/6\n",
      "159066/159066 [==============================] - 125s 784us/step - loss: 0.0028\n",
      "39767/39767 [==============================] - 20s 498us/step\n"
     ]
    }
   ],
   "source": [
    "# Build the Dense Neural Network (DNN)\n",
    "dnn_model = Sequential()\n",
    "dnn_model.add(Dense(64, activation='relu', input_dim=X_train_scaled.shape[1]))\n",
    "dnn_model.add(Dense(32, activation='relu'))\n",
    "dnn_model.add(Dense(1, activation='sigmoid'))\n",
    "dnn_model.compile(optimizer='adam', loss='binary_crossentropy')\n",
    "dnn_model.fit(X_train_scaled, y_train, epochs=6, batch_size=32)\n",
    "dnn_predictions = dnn_model.predict(X_test_scaled)\n",
    "dnn_predictions = np.round(dnn_predictions)"
   ]
  },
  {
   "cell_type": "code",
   "execution_count": 41,
   "id": "14f13f0a",
   "metadata": {},
   "outputs": [
    {
     "name": "stdout",
     "output_type": "stream",
     "text": [
      "39767/39767 [==============================] - 20s 510us/step\n"
     ]
    }
   ],
   "source": [
    "dnn_predictions = dnn_model.predict(X_test_scaled)\n",
    "dnn_predictions = np.round(dnn_predictions)"
   ]
  },
  {
   "cell_type": "code",
   "execution_count": 42,
   "id": "89e1c181-23ae-4c9d-93ad-fa3378b39d96",
   "metadata": {},
   "outputs": [
    {
     "name": "stdout",
     "output_type": "stream",
     "text": [
      "DNN Confusion Matrix:\n",
      "[[1270780     124]\n",
      " [    517    1103]]\n",
      "DNN Accuracy: 0.9994962766910487\n",
      "DNN Precision: 0.8989405052974735\n",
      "DNN Recall: 0.6808641975308642\n",
      "DNN F1-Score: 0.7748507200561995\n"
     ]
    },
    {
     "data": {
      "text/plain": [
       "<sklearn.metrics._plot.confusion_matrix.ConfusionMatrixDisplay at 0x2039e037850>"
      ]
     },
     "execution_count": 42,
     "metadata": {},
     "output_type": "execute_result"
    },
    {
     "data": {
      "image/png": "[encoded data removed]",
      "text/plain": [
       "<Figure size 640x480 with 2 Axes>"
      ]
     },
     "metadata": {},
     "output_type": "display_data"
    }
   ],
   "source": [
    "# Calculate Evaluation Metrics\n",
    "dnn_confusion_matrix = confusion_matrix(y_test, dnn_predictions)\n",
    "dnn_accuracy = accuracy_score(y_test, dnn_predictions)\n",
    "dnn_precision = precision_score(y_test, dnn_predictions)\n",
    "dnn_recall = recall_score(y_test, dnn_predictions)\n",
    "dnn_f1_score = f1_score(y_test, dnn_predictions)\n",
    "\n",
    "\n",
    "# Print the results\n",
    "print(\"DNN Confusion Matrix:\")\n",
    "print(dnn_confusion_matrix)\n",
    "print(\"DNN Accuracy:\", dnn_accuracy)\n",
    "print(\"DNN Precision:\", dnn_precision)\n",
    "print(\"DNN Recall:\", dnn_recall)\n",
    "print(\"DNN F1-Score:\", dnn_f1_score)\n",
    "\n",
    "ConfusionMatrixDisplay(confusion_matrix=dnn_confusion_matrix).plot()\n"
   ]
  },
  {
   "cell_type": "code",
   "execution_count": 43,
   "id": "01e439eb",
   "metadata": {},
   "outputs": [
    {
     "name": "stdout",
     "output_type": "stream",
     "text": [
      "39716/39716 [==============================] - 20s 507us/step\n"
     ]
    },
    {
     "name": "stderr",
     "output_type": "stream",
     "text": [
      "c:\\Python310\\lib\\site-packages\\sklearn\\metrics\\_classification.py:1344: UndefinedMetricWarning: Recall is ill-defined and being set to 0.0 due to no true samples. Use `zero_division` parameter to control this behavior.\n",
      "  _warn_prf(average, modifier, msg_start, len(result))\n"
     ]
    },
    {
     "name": "stdout",
     "output_type": "stream",
     "text": [
      "DNN Confusion Matrix:\n",
      "1270780 124 0 0\n",
      "DNN Accuracy: 0.999902431654948\n",
      "DNN Precision: 0.0\n",
      "DNN Recall: 0.0\n",
      "DNN F1-Score: 0.0\n"
     ]
    }
   ],
   "source": [
    "fraud_X_test = X_test_scaled[y_test == 0]\n",
    "fraud_y_test = y_test[y_test == 0]\n",
    "\n",
    "dnn_predictions = dnn_model.predict(fraud_X_test)\n",
    "dnn_predictions = np.round(dnn_predictions)\n",
    "\n",
    "# Calculate Evaluation Metrics\n",
    "tn,fp,fn,tp = confusion_matrix(fraud_y_test, dnn_predictions).ravel()\n",
    "dnn_accuracy = accuracy_score(fraud_y_test, dnn_predictions)\n",
    "dnn_precision = precision_score(fraud_y_test, dnn_predictions)\n",
    "dnn_recall = recall_score(fraud_y_test, dnn_predictions)\n",
    "dnn_f1_score = f1_score(fraud_y_test, dnn_predictions)\n",
    "\n",
    "\n",
    "# Print the results\n",
    "print(\"DNN Confusion Matrix:\")\n",
    "print(tn,fp,fn,tp)\n",
    "print(\"DNN Accuracy:\", dnn_accuracy)\n",
    "print(\"DNN Precision:\", dnn_precision)\n",
    "print(\"DNN Recall:\", dnn_recall)\n",
    "print(\"DNN F1-Score:\", dnn_f1_score)"
   ]
  },
  {
   "attachments": {},
   "cell_type": "markdown",
   "id": "f3756f8e-1063-4b26-abc4-e29741f3c06e",
   "metadata": {},
   "source": [
    "#### Decision Tree"
   ]
  },
  {
   "cell_type": "code",
   "execution_count": 13,
   "id": "c2c572e2-2a6e-4942-8ce2-617cb7345dd5",
   "metadata": {},
   "outputs": [
    {
     "name": "stdout",
     "output_type": "stream",
     "text": [
      "Decision Tree Classifier Confusion Matrix:\n",
      "[[1270764     140]\n",
      " [    218    1402]]\n",
      "Decision Tree Classifier Accuracy: 0.999718669353191\n",
      "Decision Tree Classifier Precision: 0.9092088197146563\n",
      "Decision Tree Classifier Recall: 0.8654320987654321\n",
      "Decision Tree Classifier F1-Score: 0.8867805186590766\n"
     ]
    }
   ],
   "source": [
    "class_weights = {0: 1, 1: 4}  # Adjust the weights \n",
    "\n",
    "# Build the Decision Tree Classifier\n",
    "dt_classifier = DecisionTreeClassifier(class_weight=class_weights)\n",
    "\n",
    "# Train the Decision Tree Classifier\n",
    "dt_classifier.fit(X_train_scaled, y_train)\n",
    "\n",
    "# Make predictions with the Decision Tree Classifier\n",
    "dt_predictions = dt_classifier.predict(X_test_scaled)\n",
    "\n",
    "# Calculate evaluation metrics for Decision Tree Classifier\n",
    "dt_confusion_matrix = confusion_matrix(y_test, dt_predictions)\n",
    "dt_accuracy = accuracy_score(y_test, dt_predictions)\n",
    "dt_precision = precision_score(y_test, dt_predictions)\n",
    "dt_recall = recall_score(y_test, dt_predictions)\n",
    "dt_f1_score = f1_score(y_test, dt_predictions)\n",
    "\n",
    "# Print the results for Decision Tree Classifier\n",
    "print(\"Decision Tree Classifier Confusion Matrix:\")\n",
    "print(dt_confusion_matrix)\n",
    "print(\"Decision Tree Classifier Accuracy:\", dt_accuracy)\n",
    "print(\"Decision Tree Classifier Precision:\", dt_precision)\n",
    "print(\"Decision Tree Classifier Recall:\", dt_recall)\n",
    "print(\"Decision Tree Classifier F1-Score:\", dt_f1_score)"
   ]
  },
  {
   "cell_type": "code",
   "execution_count": 14,
   "id": "ef7623a3",
   "metadata": {},
   "outputs": [
    {
     "name": "stdout",
     "output_type": "stream",
     "text": [
      "Decision Tree Classifier (without balancing weights) Confusion Matrix:\n",
      "[[1270768     136]\n",
      " [    216    1404]]\n",
      "Decision Tree Classifier Accuracy: 0.9997233843919643\n",
      "Decision Tree Classifier Precision: 0.9116883116883117\n",
      "Decision Tree Classifier Recall: 0.8666666666666667\n",
      "Decision Tree Classifier F1-Score: 0.8886075949367088\n"
     ]
    }
   ],
   "source": [
    "\n",
    "# Build the Decision Tree Classifier\n",
    "dt_classifier = DecisionTreeClassifier(class_weight=class_weights)\n",
    "\n",
    "# Train the Decision Tree Classifier\n",
    "dt_classifier.fit(X_train_scaled, y_train)\n",
    "\n",
    "# Make predictions with the Decision Tree Classifier\n",
    "dt_predictions = dt_classifier.predict(X_test_scaled)\n",
    "\n",
    "# Calculate evaluation metrics for Decision Tree Classifier\n",
    "dt_confusion_matrix = confusion_matrix(y_test, dt_predictions)\n",
    "dt_accuracy = accuracy_score(y_test, dt_predictions)\n",
    "dt_precision = precision_score(y_test, dt_predictions)\n",
    "dt_recall = recall_score(y_test, dt_predictions)\n",
    "dt_f1_score = f1_score(y_test, dt_predictions)\n",
    "\n",
    "# Print the results for Decision Tree Classifier\n",
    "print(\"Decision Tree Classifier (without balancing weights) Confusion Matrix:\")\n",
    "print(dt_confusion_matrix)\n",
    "print(\"Decision Tree Classifier Accuracy:\", dt_accuracy)\n",
    "print(\"Decision Tree Classifier Precision:\", dt_precision)\n",
    "print(\"Decision Tree Classifier Recall:\", dt_recall)\n",
    "print(\"Decision Tree Classifier F1-Score:\", dt_f1_score)"
   ]
  },
  {
   "attachments": {},
   "cell_type": "markdown",
   "id": "da0e067e-3abb-470a-92b7-266d5321e47f",
   "metadata": {},
   "source": [
    "#### Using Grid Sweep to find best parameters for DT\n"
   ]
  },
  {
   "cell_type": "code",
   "execution_count": 66,
   "id": "faeb0c0f-e5e8-4c89-8b02-e946c39903a2",
   "metadata": {},
   "outputs": [
    {
     "name": "stdout",
     "output_type": "stream",
     "text": [
      "Weight Ratio: 1.5\n",
      "Mean Recall: 0.8859409747348488\n",
      "Standard Deviation of Recall: 0.011383266535568828\n",
      "\n",
      "Weight Ratio: 2\n",
      "Mean Recall: 0.8827542132553173\n",
      "Standard Deviation of Recall: 0.0063796695116469125\n",
      "\n",
      "Weight Ratio: 2.5\n",
      "Mean Recall: 0.8836651438471919\n",
      "Standard Deviation of Recall: 0.00968798606540316\n",
      "\n",
      "Weight Ratio: 3\n",
      "Mean Recall: 0.8826051142344697\n",
      "Standard Deviation of Recall: 0.010434012343694465\n",
      "\n",
      "Weight Ratio: 3.5\n",
      "Mean Recall: 0.8824537143028067\n",
      "Standard Deviation of Recall: 0.012131161548053684\n",
      "\n",
      "Best Weight Ratio: {0: 1, 1: 1.5}\n",
      "Accuracy: 0.999754032143991\n",
      "Precision: 0.909717868338558\n",
      "Recall: 0.895679012345679\n",
      "F1-Score: 0.9026438569206843\n"
     ]
    }
   ],
   "source": [
    "# Define the range of weight ratios to test\n",
    "weight_ratios = [1.5, 2, 2.5, 3, 3.5]\n",
    "\n",
    "# Create a parameter grid for the weight ratios\n",
    "param_grid = {'class_weight': [{0: 1, 1: ratio} for ratio in weight_ratios]}\n",
    "\n",
    "# Create the decision tree classifier\n",
    "dt_model = DecisionTreeClassifier()\n",
    "\n",
    "# Perform grid search with cross-validation\n",
    "grid_search = GridSearchCV(dt_model, param_grid, cv=5, scoring='recall')\n",
    "\n",
    "# Fit the grid search to the data\n",
    "grid_search.fit(X_train, y_train)\n",
    "\n",
    "# Get the best weight ratio and corresponding results\n",
    "best_weight_ratio = grid_search.best_params_['class_weight']\n",
    "best_results = grid_search.cv_results_\n",
    "\n",
    "# Print the results for each weight ratio\n",
    "for ratio, mean_score, std_score in zip(weight_ratios, best_results['mean_test_score'], best_results['std_test_score']):\n",
    "    print(\"Weight Ratio:\", ratio)\n",
    "    print(\"Mean Recall:\", mean_score)\n",
    "    print(\"Standard Deviation of Recall:\", std_score)\n",
    "    print()\n",
    "\n",
    "# Evaluate the model with the best weight ratio on the test set\n",
    "best_dt_model = grid_search.best_estimator_\n",
    "y_pred = best_dt_model.predict(X_test)\n",
    "\n",
    "# Calculate evaluation metrics\n",
    "accuracy = accuracy_score(y_test, y_pred)\n",
    "precision = precision_score(y_test, y_pred)\n",
    "recall = recall_score(y_test, y_pred)\n",
    "f1 = f1_score(y_test, y_pred)\n",
    "\n",
    "# Print the evaluation metrics for the best model\n",
    "print(\"Best Weight Ratio:\", best_weight_ratio)\n",
    "print(\"Accuracy:\", accuracy)\n",
    "print(\"Precision:\", precision)\n",
    "print(\"Recall:\", recall)\n",
    "print(\"F1-Score:\", f1)"
   ]
  },
  {
   "attachments": {},
   "cell_type": "markdown",
   "id": "38032e13-c6ce-4c3a-8503-032789755268",
   "metadata": {},
   "source": [
    "#### Random Forest"
   ]
  },
  {
   "cell_type": "code",
   "execution_count": 48,
   "id": "ea43bfd8-b4e0-4622-aef0-1ac33facd674",
   "metadata": {},
   "outputs": [
    {
     "name": "stdout",
     "output_type": "stream",
     "text": [
      "Random Forest Confusion Matrix:\n",
      "[[1270881      23]\n",
      " [    329    1291]]\n",
      "Random Forest Accuracy: 0.9997233843919643\n",
      "Random Forest Precision: 0.982496194824962\n",
      "Random Forest Recall: 0.7969135802469136\n",
      "Random Forest F1-Score: 0.880027266530334\n"
     ]
    }
   ],
   "source": [
    "# 2 ESTIMATORS\n",
    "\n",
    "rf_model = RandomForestClassifier(n_estimators=100, random_state=42)\n",
    "rf_model.fit(X_train_scaled, y_train)\n",
    "\n",
    "rf_predictions = rf_model.predict(X_test_scaled)\n",
    "\n",
    "rf_confusion_matrix = confusion_matrix(y_test, rf_predictions)\n",
    "rf_accuracy = accuracy_score(y_test, rf_predictions)\n",
    "rf_precision = precision_score(y_test, rf_predictions)\n",
    "rf_recall = recall_score(y_test, rf_predictions)\n",
    "rf_f1_score = f1_score(y_test, rf_predictions)\n",
    "\n",
    "print(\"Random Forest Confusion Matrix:\")\n",
    "print(rf_confusion_matrix)\n",
    "print(\"Random Forest Accuracy:\", rf_accuracy)\n",
    "print(\"Random Forest Precision:\", rf_precision)\n",
    "print(\"Random Forest Recall:\", rf_recall)\n",
    "print(\"Random Forest F1-Score:\", rf_f1_score)"
   ]
  },
  {
   "cell_type": "code",
   "execution_count": 65,
   "id": "56cb23d1-7e1f-4495-8cee-526e66ad67f7",
   "metadata": {},
   "outputs": [
    {
     "name": "stdout",
     "output_type": "stream",
     "text": [
      "Random Forest Confusion Matrix:\n",
      "[[1270852      52]\n",
      " [    347    1273]]\n",
      "Random Forest Accuracy: 0.9996864499215732\n",
      "Random Forest Precision: 0.9607547169811321\n",
      "Random Forest Recall: 0.7858024691358024\n",
      "Random Forest F1-Score: 0.8645161290322582\n"
     ]
    }
   ],
   "source": [
    "# 4 ESTIMATORS\n",
    "rf_model = RandomForestClassifier(n_estimators=20, random_state=42)\n",
    "rf_model.fit(X_train_scaled, y_train)\n",
    "\n",
    "rf_predictions = rf_model.predict(X_test_scaled)\n",
    "\n",
    "rf_confusion_matrix = confusion_matrix(y_test, rf_predictions)\n",
    "rf_accuracy = accuracy_score(y_test, rf_predictions)\n",
    "rf_precision = precision_score(y_test, rf_predictions)\n",
    "rf_recall = recall_score(y_test, rf_predictions)\n",
    "rf_f1_score = f1_score(y_test, rf_predictions)\n",
    "\n",
    "print(\"Random Forest Confusion Matrix:\")\n",
    "print(rf_confusion_matrix)\n",
    "print(\"Random Forest Accuracy:\", rf_accuracy)\n",
    "print(\"Random Forest Precision:\", rf_precision)\n",
    "print(\"Random Forest Recall:\", rf_recall)\n",
    "print(\"Random Forest F1-Score:\", rf_f1_score)"
   ]
  },
  {
   "attachments": {},
   "cell_type": "markdown",
   "id": "517535e8-372e-443c-b7c2-81d4e100fad5",
   "metadata": {},
   "source": [
    "### Other Improvements?"
   ]
  },
  {
   "attachments": {},
   "cell_type": "markdown",
   "id": "3ceae878-829d-45db-917c-f0e9fc2539cc",
   "metadata": {},
   "source": [
    "#### Random Oversampling\n"
   ]
  },
  {
   "attachments": {},
   "cell_type": "markdown",
   "id": "8aeb1cd5-f3b8-439e-9706-72bfaeec5279",
   "metadata": {},
   "source": [
    "#### Other Oversampling techniques?"
   ]
  },
  {
   "attachments": {},
   "cell_type": "markdown",
   "id": "4ac6813e-d274-4d5b-95af-33af5ca65e67",
   "metadata": {},
   "source": [
    "#### Generating Synthetic data for class imbalance?"
   ]
  },
  {
   "cell_type": "code",
   "execution_count": null,
   "id": "1e0f9b97-38dd-4797-bdf8-cfd2eea40933",
   "metadata": {},
   "outputs": [],
   "source": []
  }
 ],
 "metadata": {
  "kernelspec": {
   "display_name": "Python 3 (ipykernel)",
   "language": "python",
   "name": "python3"
  },
  "language_info": {
   "codemirror_mode": {
    "name": "ipython",
    "version": 3
   },
   "file_extension": ".py",
   "mimetype": "text/x-python",
   "name": "python",
   "nbconvert_exporter": "python",
   "pygments_lexer": "ipython3",
   "version": "3.10.6"
  }
 },
 "nbformat": 4,
 "nbformat_minor": 5
}
