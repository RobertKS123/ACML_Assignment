{
 "cells": [
  {
   "cell_type": "code",
   "execution_count": null,
   "id": "dda45d92-3c09-445b-8500-d19a641c051c",
   "metadata": {},
   "outputs": [],
   "source": [
    "import pandas as pd\n",
    "import numpy as np\n",
    "import seaborn as sns\n",
    "import tensorflow as tf\n",
    "import matplotlib.pyplot as plt\n",
    "from keras.models import Sequential\n",
    "from keras.layers import Dense, Dropout, Activation, BatchNormalization\n",
    "import matplotlib.pyplot as plt\n",
    "from sklearn.preprocessing import StandardScaler, LabelEncoder\n",
    "from sklearn.model_selection import train_test_split, GridSearchCV\n",
    "from sklearn.utils import class_weight\n",
    "from sklearn.tree import DecisionTreeClassifier\n",
    "from sklearn.ensemble import RandomForestClassifier\n",
    "from sklearn.metrics import confusion_matrix, accuracy_score, precision_score, recall_score, f1_score\n",
    "import hashlib\n",
    "from imblearn.over_sampling import RandomOverSampler, SMOTE"
   ]
  },
  {
   "attachments": {},
   "cell_type": "markdown",
   "id": "c472dc37-db9e-48d1-bd7a-c496614823e7",
   "metadata": {},
   "source": [
    "### Pre-Processing"
   ]
  },
  {
   "cell_type": "code",
   "execution_count": null,
   "id": "df4b28b3-0f14-48a4-be84-8757374dab49",
   "metadata": {},
   "outputs": [],
   "source": [
    "# convert type to number categorical\n",
    "data[\"type\"] = data[\"type\"].map({\"CASH_OUT\": 1, \"PAYMENT\": 2, \"CASH_IN\": 3, \"TRANSFER\": 4, \"DEBIT\": 5})\n",
    "data.head()"
   ]
  },
  {
   "cell_type": "code",
   "execution_count": null,
   "id": "0fbd121e-e586-4ba7-98ce-4dac58e05e09",
   "metadata": {},
   "outputs": [],
   "source": [
    "data = data.drop([\"nameOrig\", \"nameDest\"], axis=1)"
   ]
  },
  {
   "cell_type": "code",
   "execution_count": null,
   "id": "b327417f-bce4-49fd-b3da-bd56f2bc17e6",
   "metadata": {},
   "outputs": [],
   "source": [
    "# Prepare the Data\n",
    "X = data.drop(['isFraud'], axis=1)\n",
    "y = data['isFraud']\n",
    "X_train, X_test, y_train, y_test = train_test_split(X, y, test_size=0.2, random_state=42)\n",
    "scaler = StandardScaler()\n",
    "X_train_scaled = scaler.fit_transform(X_train)\n",
    "X_test_scaled = scaler.transform(X_test)\n"
   ]
  },
  {
   "attachments": {},
   "cell_type": "markdown",
   "id": "97df0bae-7252-49a7-ae65-f16187ebaec7",
   "metadata": {},
   "source": [
    "### Models"
   ]
  },
  {
   "attachments": {},
   "cell_type": "markdown",
   "id": "087d854e-6354-4a69-a229-07afc42c81e3",
   "metadata": {},
   "source": [
    "#### DNN"
   ]
  },
  {
   "cell_type": "code",
   "execution_count": null,
   "id": "d3514280-ffed-4c91-bb5d-a5666a92d524",
   "metadata": {},
   "outputs": [],
   "source": [
    "# Build the Dense Neural Network (DNN)\n",
    "dnn_model = Sequential()\n",
    "dnn_model.add(Dense(64, activation='relu', input_dim=X_train_scaled.shape[1]))\n",
    "dnn_model.add(Dense(32, activation='relu'))\n",
    "dnn_model.add(Dense(1, activation='sigmoid'))\n",
    "dnn_model.compile(optimizer='adam', loss='binary_crossentropy')\n",
    "dnn_model.fit(X_train_scaled, y_train, epochs=10, batch_size=32)\n",
    "dnn_predictions = dnn_model.predict(X_test_scaled)\n",
    "dnn_predictions = np.round(dnn_predictions)"
   ]
  },
  {
   "cell_type": "code",
   "execution_count": null,
   "id": "89e1c181-23ae-4c9d-93ad-fa3378b39d96",
   "metadata": {},
   "outputs": [],
   "source": [
    "# Calculate Evaluation Metrics\n",
    "dnn_confusion_matrix = confusion_matrix(y_test, dnn_predictions)\n",
    "dnn_accuracy = accuracy_score(y_test, dnn_predictions)\n",
    "dnn_precision = precision_score(y_test, dnn_predictions)\n",
    "dnn_recall = recall_score(y_test, dnn_predictions)\n",
    "dnn_f1_score = f1_score(y_test, dnn_predictions)\n",
    "\n",
    "\n",
    "# Print the results\n",
    "print(\"DNN Confusion Matrix:\")\n",
    "print(dnn_confusion_matrix)\n",
    "print(\"DNN Accuracy:\", dnn_accuracy)\n",
    "print(\"DNN Precision:\", dnn_precision)\n",
    "print(\"DNN Recall:\", dnn_recall)\n",
    "print(\"DNN F1-Score:\", dnn_f1_score)"
   ]
  },
  {
   "attachments": {},
   "cell_type": "markdown",
   "id": "f3756f8e-1063-4b26-abc4-e29741f3c06e",
   "metadata": {},
   "source": [
    "#### Decision Tree"
   ]
  },
  {
   "cell_type": "code",
   "execution_count": null,
   "id": "89afcdca-c2a0-4aa3-a880-ead747640bb3",
   "metadata": {},
   "outputs": [],
   "source": [
    "# Build the Decision Tree Classifier\n",
    "dt_classifier = DecisionTreeClassifier(class_weight=class_weights)\n",
    "\n",
    "# Train the Decision Tree Classifier\n",
    "dt_classifier.fit(X_train_scaled, y_train)\n",
    "\n",
    "# Make predictions with the Decision Tree Classifier\n",
    "dt_predictions = dt_classifier.predict(X_test_scaled)\n",
    "\n",
    "# Calculate evaluation metrics for Decision Tree Classifier\n",
    "dt_confusion_matrix = confusion_matrix(y_test, dt_predictions)\n",
    "dt_accuracy = accuracy_score(y_test, dt_predictions)\n",
    "dt_precision = precision_score(y_test, dt_predictions)\n",
    "dt_recall = recall_score(y_test, dt_predictions)\n",
    "dt_f1_score = f1_score(y_test, dt_predictions)\n",
    "\n",
    "# Print the results for Decision Tree Classifier\n",
    "print(\"Decision Tree Classifier (without balancing weights) Confusion Matrix:\")\n",
    "print(dt_confusion_matrix)\n",
    "print(\"Decision Tree Classifier Accuracy:\", dt_accuracy)\n",
    "print(\"Decision Tree Classifier Precision:\", dt_precision)\n",
    "print(\"Decision Tree Classifier Recall:\", dt_recall)\n",
    "print(\"Decision Tree Classifier F1-Score:\", dt_f1_score)"
   ]
  },
  {
   "cell_type": "code",
   "execution_count": null,
   "id": "c2c572e2-2a6e-4942-8ce2-617cb7345dd5",
   "metadata": {},
   "outputs": [],
   "source": [
    "class_weights = {0: 1, 1: 4}  # Adjust the weights \n",
    "\n",
    "# Build the Decision Tree Classifier\n",
    "dt_classifier = DecisionTreeClassifier(class_weight=class_weights)\n",
    "\n",
    "# Train the Decision Tree Classifier\n",
    "dt_classifier.fit(X_train_scaled, y_train)\n",
    "\n",
    "# Make predictions with the Decision Tree Classifier\n",
    "dt_predictions = dt_classifier.predict(X_test_scaled)\n",
    "\n",
    "# Calculate evaluation metrics for Decision Tree Classifier\n",
    "dt_confusion_matrix = confusion_matrix(y_test, dt_predictions)\n",
    "dt_accuracy = accuracy_score(y_test, dt_predictions)\n",
    "dt_precision = precision_score(y_test, dt_predictions)\n",
    "dt_recall = recall_score(y_test, dt_predictions)\n",
    "dt_f1_score = f1_score(y_test, dt_predictions)\n",
    "\n",
    "# Print the results for Decision Tree Classifier\n",
    "print(\"Decision Tree Classifier Confusion Matrix:\")\n",
    "print(dt_confusion_matrix)\n",
    "print(\"Decision Tree Classifier Accuracy:\", dt_accuracy)\n",
    "print(\"Decision Tree Classifier Precision:\", dt_precision)\n",
    "print(\"Decision Tree Classifier Recall:\", dt_recall)\n",
    "print(\"Decision Tree Classifier F1-Score:\", dt_f1_score)"
   ]
  },
  {
   "attachments": {},
   "cell_type": "markdown",
   "id": "da0e067e-3abb-470a-92b7-266d5321e47f",
   "metadata": {},
   "source": [
    "#### Using Grid Sweep to find best parameters for DT\n"
   ]
  },
  {
   "cell_type": "code",
   "execution_count": null,
   "id": "faeb0c0f-e5e8-4c89-8b02-e946c39903a2",
   "metadata": {},
   "outputs": [],
   "source": [
    "# Define the range of weight ratios to test\n",
    "weight_ratios = [1.5, 2, 2.5, 3, 3.5]\n",
    "\n",
    "# Create a parameter grid for the weight ratios\n",
    "param_grid = {'class_weight': [{0: 1, 1: ratio} for ratio in weight_ratios]}\n",
    "\n",
    "# Create the decision tree classifier\n",
    "dt_model = DecisionTreeClassifier()\n",
    "\n",
    "# Perform grid search with cross-validation\n",
    "grid_search = GridSearchCV(dt_model, param_grid, cv=5, scoring='recall')\n",
    "\n",
    "# Fit the grid search to the data\n",
    "grid_search.fit(X_train, y_train)\n",
    "\n",
    "# Get the best weight ratio and corresponding results\n",
    "best_weight_ratio = grid_search.best_params_['class_weight']\n",
    "best_results = grid_search.cv_results_\n",
    "\n",
    "# Print the results for each weight ratio\n",
    "for ratio, mean_score, std_score in zip(weight_ratios, best_results['mean_test_score'], best_results['std_test_score']):\n",
    "    print(\"Weight Ratio:\", ratio)\n",
    "    print(\"Mean Recall:\", mean_score)\n",
    "    print(\"Standard Deviation of Recall:\", std_score)\n",
    "    print()\n",
    "\n",
    "# Evaluate the model with the best weight ratio on the test set\n",
    "best_dt_model = grid_search.best_estimator_\n",
    "y_pred = best_dt_model.predict(X_test)\n",
    "\n",
    "# Calculate evaluation metrics\n",
    "accuracy = accuracy_score(y_test, y_pred)\n",
    "precision = precision_score(y_test, y_pred)\n",
    "recall = recall_score(y_test, y_pred)\n",
    "f1 = f1_score(y_test, y_pred)\n",
    "\n",
    "# Print the evaluation metrics for the best model\n",
    "print(\"Best Weight Ratio:\", best_weight_ratio)\n",
    "print(\"Accuracy:\", accuracy)\n",
    "print(\"Precision:\", precision)\n",
    "print(\"Recall:\", recall)\n",
    "print(\"F1-Score:\", f1)"
   ]
  },
  {
   "attachments": {},
   "cell_type": "markdown",
   "id": "38032e13-c6ce-4c3a-8503-032789755268",
   "metadata": {},
   "source": [
    "#### Random Forest"
   ]
  },
  {
   "cell_type": "code",
   "execution_count": null,
   "id": "ea43bfd8-b4e0-4622-aef0-1ac33facd674",
   "metadata": {},
   "outputs": [],
   "source": [
    "# 2 ESTIMATORS\n",
    "\n",
    "rf_model = RandomForestClassifier(n_estimators=2, random_state=42)\n",
    "rf_model.fit(X_train, y_train)\n",
    "\n",
    "rf_predictions = rf_model.predict(X_test)\n",
    "\n",
    "rf_confusion_matrix = confusion_matrix(y_test, rf_predictions)\n",
    "rf_accuracy = accuracy_score(y_test, rf_predictions)\n",
    "rf_precision = precision_score(y_test, rf_predictions)\n",
    "rf_recall = recall_score(y_test, rf_predictions)\n",
    "rf_f1_score = f1_score(y_test, rf_predictions)\n",
    "\n",
    "print(\"Random Forest Confusion Matrix:\")\n",
    "print(rf_confusion_matrix)\n",
    "print(\"Random Forest Accuracy:\", rf_accuracy)\n",
    "print(\"Random Forest Precision:\", rf_precision)\n",
    "print(\"Random Forest Recall:\", rf_recall)\n",
    "print(\"Random Forest F1-Score:\", rf_f1_score)"
   ]
  },
  {
   "cell_type": "code",
   "execution_count": null,
   "id": "56cb23d1-7e1f-4495-8cee-526e66ad67f7",
   "metadata": {},
   "outputs": [],
   "source": [
    "# 4 ESTIMATORS\n",
    "rf_model = RandomForestClassifier(n_estimators=4, random_state=42)\n",
    "rf_model.fit(X_train, y_train)\n",
    "\n",
    "rf_predictions = rf_model.predict(X_test)\n",
    "\n",
    "rf_confusion_matrix = confusion_matrix(y_test, rf_predictions)\n",
    "rf_accuracy = accuracy_score(y_test, rf_predictions)\n",
    "rf_precision = precision_score(y_test, rf_predictions)\n",
    "rf_recall = recall_score(y_test, rf_predictions)\n",
    "rf_f1_score = f1_score(y_test, rf_predictions)\n",
    "\n",
    "print(\"Random Forest Confusion Matrix:\")\n",
    "print(rf_confusion_matrix)\n",
    "print(\"Random Forest Accuracy:\", rf_accuracy)\n",
    "print(\"Random Forest Precision:\", rf_precision)\n",
    "print(\"Random Forest Recall:\", rf_recall)\n",
    "print(\"Random Forest F1-Score:\", rf_f1_score)"
   ]
  },
  {
   "attachments": {},
   "cell_type": "markdown",
   "id": "517535e8-372e-443c-b7c2-81d4e100fad5",
   "metadata": {},
   "source": [
    "### Other Improvements?"
   ]
  },
  {
   "attachments": {},
   "cell_type": "markdown",
   "id": "3ceae878-829d-45db-917c-f0e9fc2539cc",
   "metadata": {},
   "source": [
    "#### Random Oversampling\n"
   ]
  },
  {
   "attachments": {},
   "cell_type": "markdown",
   "id": "8aeb1cd5-f3b8-439e-9706-72bfaeec5279",
   "metadata": {},
   "source": [
    "#### Other Oversampling techniques?"
   ]
  },
  {
   "attachments": {},
   "cell_type": "markdown",
   "id": "4ac6813e-d274-4d5b-95af-33af5ca65e67",
   "metadata": {},
   "source": [
    "#### Generating Synthetic data for class imbalance?"
   ]
  },
  {
   "cell_type": "code",
   "execution_count": null,
   "id": "1e0f9b97-38dd-4797-bdf8-cfd2eea40933",
   "metadata": {},
   "outputs": [],
   "source": []
  }
 ],
 "metadata": {
  "kernelspec": {
   "display_name": "Python 3 (ipykernel)",
   "language": "python",
   "name": "python3"
  },
  "language_info": {
   "codemirror_mode": {
    "name": "ipython",
    "version": 3
   },
   "file_extension": ".py",
   "mimetype": "text/x-python",
   "name": "python",
   "nbconvert_exporter": "python",
   "pygments_lexer": "ipython3",
   "version": "3.10.11"
  }
 },
 "nbformat": 4,
 "nbformat_minor": 5
}
