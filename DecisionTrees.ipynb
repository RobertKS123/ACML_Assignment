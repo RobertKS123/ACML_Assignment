{
 "cells": [
  {
   "attachments": {},
   "cell_type": "markdown",
   "metadata": {},
   "source": [
    "# Decision Trees"
   ]
  },
  {
   "attachments": {},
   "cell_type": "markdown",
   "metadata": {},
   "source": [
    "## 1. Import Libraries"
   ]
  },
  {
   "attachments": {},
   "cell_type": "markdown",
   "metadata": {},
   "source": [
    "## 2. Import and pre-process the dataset"
   ]
  },
  {
   "attachments": {},
   "cell_type": "markdown",
   "metadata": {},
   "source": [
    "## 3. "
   ]
  },
  {
   "cell_type": "code",
   "execution_count": null,
   "metadata": {},
   "outputs": [],
   "source": [
    "class_weights = {0: 1, 1: 4}  # Adjust the weights \n",
    "\n",
    "# Build the Decision Tree Classifier\n",
    "dt_classifier = DecisionTreeClassifier(class_weight=class_weights)\n",
    "\n",
    "# Train the Decision Tree Classifier\n",
    "dt_classifier.fit(X_train_scaled, y_train)\n",
    "\n",
    "# Make predictions with the Decision Tree Classifier\n",
    "dt_predictions = dt_classifier.predict(X_test_scaled)\n",
    "\n",
    "# Calculate evaluation metrics for Decision Tree Classifier\n",
    "dt_confusion_matrix = confusion_matrix(y_test, dt_predictions)\n",
    "dt_accuracy = accuracy_score(y_test, dt_predictions)\n",
    "dt_precision = precision_score(y_test, dt_predictions)\n",
    "dt_recall = recall_score(y_test, dt_predictions)\n",
    "dt_f1_score = f1_score(y_test, dt_predictions)\n",
    "\n",
    "# Print the results for Decision Tree Classifier\n",
    "print(\"Decision Tree Classifier Confusion Matrix:\")\n",
    "print(dt_confusion_matrix)\n",
    "print(\"Decision Tree Classifier Accuracy:\", dt_accuracy)\n",
    "print(\"Decision Tree Classifier Precision:\", dt_precision)\n",
    "print(\"Decision Tree Classifier Recall:\", dt_recall)\n",
    "print(\"Decision Tree Classifier F1-Score:\", dt_f1_score)"
   ]
  },
  {
   "cell_type": "code",
   "execution_count": null,
   "metadata": {},
   "outputs": [],
   "source": []
  }
 ],
 "metadata": {
  "language_info": {
   "name": "python"
  },
  "orig_nbformat": 4
 },
 "nbformat": 4,
 "nbformat_minor": 2
}
